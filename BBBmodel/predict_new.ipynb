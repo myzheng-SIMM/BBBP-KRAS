{
 "cells": [
  {
   "cell_type": "code",
   "execution_count": 2,
   "metadata": {
    "collapsed": false
   },
   "outputs": [
    {
     "name": "stderr",
     "output_type": "stream",
     "text": [
      "2023-03-28 11:49:30.887212: I tensorflow/core/common_runtime/gpu/gpu_device.cc:1613] Created device /job:localhost/replica:0/task:0/device:GPU:0 with 30164 MB memory:  -> device: 0, name: Tesla V100-PCIE-32GB, pci bus id: 0000:62:00.0, compute capability: 7.0\n"
     ]
    },
    {
     "name": "stdout",
     "output_type": "stream",
     "text": [
      "Loading configuration file...\n",
      "Configuration file loaded successfully!\n"
     ]
    }
   ],
   "source": [
    "import os\n",
    "import tensorflow as tf\n",
    "from keras import backend as K\n",
    "from utils import *\n",
    "from rdkit import Chem\n",
    "from rdkit import DataStructs\n",
    "from rdkit.Chem import AllChem\n",
    "from imblearn.over_sampling import SMOTE\n",
    "from tokens import tokens_table\n",
    "from tensorflow.keras.models import model_from_json\n",
    "\n",
    "os.environ[\"CUDA_VISIBLE_DEVICES\"] = \"2\"\n",
    "session = tf.compat.v1.Session()\n",
    "K.set_session(session)\n",
    "\n",
    "config_file = '/home/data-house-01/zhangxiang/BBBmodel/configPredictor.json'  # Name of the configuration file\n",
    "property_identifier = 'bbb'\n",
    "model_type = 'dnn'  # 'dnn', 'SVR', 'RF', or 'KNN'\n",
    "descriptor = 'ECFP'  # The type of model's descriptor can be 'SMILES' or 'ECFP'. If we want to use\n",
    "# rnn architecture we use SMILES. Conversely, if we want to use a fully connected architecture, we use ECFP descriptors.\n",
    "searchParameters = False  # True (gridSearch) or False (train with the optimal parameters)\n",
    "\n",
    "config = load_config(config_file, property_identifier)\n",
    "directories([config.checkpoint_dir])\n",
    "\n",
    "# Load the table of possible tokens\n",
    "token_table = tokens_table().table\n",
    "\n",
    "# Read and extract smiles and labels from the csv file\n",
    "smiles_raw, labels_raw = reading_csv(config, property_identifier)\n",
    "# print(len(smiles_raw))\n",
    "mols = [Chem.MolFromSmiles(x) for x in smiles_raw]\n",
    "\n",
    "morgan_fp = [AllChem.GetMorganFingerprintAsBitVect(x, 2, nBits = 2048) for x in mols]\n",
    "\n",
    "\n",
    "# convert the RDKit explicit vectors into numpy arrays\n",
    "morg_fp_np = []\n",
    "for fp in morgan_fp:\n",
    "    arr = np.zeros((1,))\n",
    "    DataStructs.ConvertToNumpyArray(fp, arr)\n",
    "    morg_fp_np.append(arr)\n",
    "\n",
    "\n",
    "x_morg = morg_fp_np\n",
    "\n",
    "x_morg_rsmp, y_morg_rsmp = SMOTE().fit_resample(x_morg, labels_raw)\n",
    "\n",
    "# Padd each SMILES string with spaces until reaching the size of the largest molecule\n",
    "smiles_padded, padd = pad_seq(smiles_raw, token_table, 0)\n",
    "config.paddSize = padd\n",
    "\n",
    "# Compute the dictionary that makes the correspondence between each token and unique integers\n",
    "tokenDict = smilesDict(token_table)\n",
    "\n",
    "# Tokenize - transform the SMILES strings into lists of tokens\n",
    "[tokens, problem_idx] = tokenize(smiles_padded, token_table)\n",
    "labels_raw = np.delete(labels_raw, problem_idx).tolist()\n",
    "\n",
    "# Transforms each token to the respective integer, according to the previously computed dictionary\n",
    "smiles_int = smiles2idx(tokens, tokenDict)\n",
    "\n",
    "data_rnn_ecfp = data_division(config, x_morg_rsmp, y_morg_rsmp, True, model_type, descriptor)\n",
    "x_test = data_rnn_ecfp[2]\n",
    "y_test = data_rnn_ecfp[3]\n",
    "data_cv = cv_split(data_rnn_ecfp, config)\n",
    "\n",
    "data_utils = [[1., 0.], [1., 0.], [1., 0.], [1., 0.], [1., 0.]]\n",
    "\n",
    "\n",
    "def SMILES2ECFP(smiles, radius=3, bit_len=2048, index=None):\n",
    "    \"\"\"\n",
    "    This function transforms a list of SMILES strings into a list of ECFP with\n",
    "    radius 3.\n",
    "    ----------\n",
    "    smiles: List of SMILES strings to transform\n",
    "    Returns\n",
    "    -------\n",
    "    This function return the SMILES strings transformed into a vector of 4096 elements\n",
    "    \"\"\"\n",
    "    fps = np.zeros((len(smiles), bit_len))\n",
    "    for i, smile in enumerate(smiles):\n",
    "        mol = Chem.MolFromSmiles(smile)\n",
    "        arr = np.zeros((1,))\n",
    "        try:\n",
    "\n",
    "            mol = MurckoScaffold.GetScaffoldForMol(mol)\n",
    "\n",
    "            fp = AllChem.GetMorganFingerprintAsBitVect(mol, radius, nBits=bit_len)\n",
    "            DataStructs.ConvertToNumpyArray(fp, arr)\n",
    "            fps[i, :] = arr\n",
    "        except:\n",
    "            print(smile)\n",
    "            fps[i, :] = [0] * bit_len\n",
    "    return pd.DataFrame(fps, index=(smiles if index is None else index))\n",
    "\n",
    "\n",
    "class Predictor(object):\n",
    "    def __init__(self, config, tokens, model_type, descriptor_type):\n",
    "        super(Predictor, self).__init__()\n",
    "        self.tokens = tokens\n",
    "        self.config = config\n",
    "        self.model_type = model_type\n",
    "        self.descriptor_type = descriptor_type\n",
    "        loaded_models = []\n",
    "        for i in range(5):\n",
    "            json_file = open(\n",
    "                \"/home/data-house-01/zhangxiang/BBBmodel/experiments/bbb-final/Model/\" + \"model\" + str(i) + \".json\",\n",
    "                'r')\n",
    "            loaded_model_json = json_file.read()\n",
    "            json_file.close()\n",
    "            loaded_model = model_from_json(loaded_model_json)\n",
    "            # load weights into new model\n",
    "            loaded_model.load_weights(\n",
    "                \"/home/data-house-01/zhangxiang/BBBmodel/experiments/bbb-final/Model/\" + \"model\" + str(i) + \".h5\")\n",
    "            print(\"Model \" + str(i) + \" loaded from disk!\")\n",
    "            loaded_models.append(loaded_model)\n",
    "\n",
    "        self.loaded_models = loaded_models\n",
    "\n",
    "    def predict(self, smiles, data):\n",
    "        data_2_predict = SMILES2ECFP(smiles)\n",
    "        prediction = []\n",
    "        for m in range(len(self.loaded_models)):\n",
    "            prediction.append(self.loaded_models[m].predict(data_2_predict))\n",
    "        prediction = np.array(prediction).reshape(len(self.loaded_models), -1)\n",
    "        prediction = denormalization(prediction, data)\n",
    "        prediction = np.mean(prediction, axis=0)\n",
    "        return prediction"
   ]
  },
  {
   "cell_type": "code",
   "execution_count": 3,
   "metadata": {
    "collapsed": false
   },
   "outputs": [],
   "source": [
    "list_ss = [[\"CC1=NN=C(C(C)C)N1[C@H](C[C@H]2CC3)C[C@H]3N2CCC(NC(C)=O)C4=CC=CS4\"],\n",
    "           [\"CC1=NN=C(C(C)C)N1[C@H](C[C@H]2CC3)C[C@H]3N2CC[C@H](NC(C4=CC(NC(C)=O)=CC=C4)=O)C5=CC=CS5\"],\n",
    "           [\"CC1=NN=C(C(C)C)N1[C@H](C[C@H]2CC3)C[C@H]3N2CC[C@H](NC(C4=C(OC)C=CC(S(=O)(N)=O)=C4)=O)C5=CC=CS5\"],\n",
    "           [\"CC1=NN=C(C(C)C)N1[C@H](C[C@H]2CC3)C[C@H]3N2CC[C@H](NC(C4=CC(S(NC)(=O)=O)=CC=C4)=O)C5=CC=CS5\"],\n",
    "           [\"CC1=NN=C(C(C)C)N1[C@H](C[C@H]2CC3)C[C@H]3N2CC[C@H](NC(C4CCC(C(OC)=O)CC4)=O)C5=CSC=C5\"],\n",
    "           [\"CC1=NN=C(C(C)C)N1[C@H](C[C@H]2CC3)C[C@H]3N2CC[C@H](NC(CC#N)=O)C4=CC=C(C)S4\"],\n",
    "           [\"CC1=NN=C(C(C)C)N1[C@H](C[C@H]2CC3)C[C@H]3N2CC[C@H](NC(CN4C=NN=N4)=O)C5=CC=C(C)S5\"],\n",
    "           [\"CC1=NN=C(C(C)C)N1[C@H](C[C@H]2CC3)C[C@H]3N2CC[C@H](NC(C4CCN(S(C)(=O)=O)CC4)=O)C5=CC=C(C)S5\"],\n",
    "           [\"CC1=NN=C(C(C)C)N1[C@H](C[C@H]2CC3)C[C@H]3N2CC[C@H](NC(C4CCN(S(=O)(C)=O)CC4)=O)C5=CC(C)=CS5\"],\n",
    "           [\"CC1=NN=C(C(C)C)N1[C@H](C[C@H]2CC3)C[C@H]3N2CC[C@H](NC(C4CCCC4)=O)C5=CSC=C5C\"],\n",
    "           [\"CC1=NN=C(C(C)C)N1[C@H](C[C@H]2CC3)C[C@H]3N2CC[C@H](NC(C4CCCC4)=O)C5=CC=C(C#N)S5\"],\n",
    "           [\"CC1=NN=C(C(C)C)N1[C@H](C[C@H]2CC3)C[C@H]3N2CC[C@H](NC(C4CCCCC4)=O)C5=CC=C(C#N)S\"],\n",
    "           [\"O=C(C1CCC(F)(F)CC1)NC(C2=CC=CS2)CCN3[C@@H]4C[C@H](N5C(C6CC6)=NN=C5C(F)(F)F)C[C@H]3CC4\"],\n",
    "           [\"CC1=NN=C(C(C)C)N1[C@H](C[C@H]2CC3)C[C@H]3N2CC[C@H](NC(C4CCCCC4)=O)C5=CC=C(F)S5\"],\n",
    "           [\"CC1=NN=C(C(C)C)N1[C@H](C[C@H]2CC3)C[C@H]3N2CC[C@H](NC(C4CCCC4)=O)C5=C(Cl)SC=C5\"],\n",
    "           [\"CC1=NN=C(C(C)C)N1[C@H](C[C@H]2CC3)C[C@H]3N2CC[C@H](NC(C4CCC(F)(F)CC4)=O)C5=C(Cl)SC=C5\"],\n",
    "           [\"CC1=NN=C(C(C)C)N1[C@H](C[C@H]2CC3)C[C@H]3N2CC[C@H](NC(C4CCC(F)(F)CC4)=O)C5=CSC=N5\"],\n",
    "           [\"CC1=NN=C(C(C)C)N1[C@H](C[C@H]2CC3)C[C@H]3N2CC[C@H](NC(C(F)(F)F)=O)C4=CSC5=C4C=CC=C5\"],\n",
    "           [\"CC(C)C1=NN=C(COC)N1[C@H](C[C@H]2CC3)C[C@H]3N2CC[C@H](NC(C4CCC(F)(F)CC4)=O)C5=CSC=C5\"],\n",
    "           [\"CC1=NC2=C(CCN(C(C(C)C)=O)C2)N1[C@H]3C[C@H]4N([C@H](CC4)C3)CC[C@H](NC(C5CCC(F)(F)CC5)=O)C6=CSC=C6\"],\n",
    "           [\"CC1=NC2=C(CCN(C(C)=O)C2)N1[C@H]3C[C@H]4N([C@H](CC4)C3)CC[C@H](NC(C5CCC(F)(F)CC5)=O)C6=CSC=C6\"]]"
   ]
  },
  {
   "cell_type": "code",
   "execution_count": 4,
   "metadata": {
    "collapsed": false
   },
   "outputs": [
    {
     "name": "stderr",
     "output_type": "stream",
     "text": [
      "2023-03-28 11:49:37.123369: I tensorflow/core/common_runtime/gpu/gpu_device.cc:1613] Created device /job:localhost/replica:0/task:0/device:GPU:0 with 30164 MB memory:  -> device: 0, name: Tesla V100-PCIE-32GB, pci bus id: 0000:62:00.0, compute capability: 7.0\n"
     ]
    },
    {
     "name": "stdout",
     "output_type": "stream",
     "text": [
      "Model 0 loaded from disk!\n",
      "Model 1 loaded from disk!\n",
      "Model 2 loaded from disk!\n",
      "Model 3 loaded from disk!\n",
      "Model 4 loaded from disk!\n",
      "1/1 [==============================] - 2s 2s/step\n",
      "1/1 [==============================] - 0s 318ms/step\n",
      "1/1 [==============================] - 0s 338ms/step\n",
      "1/1 [==============================] - 0s 102ms/step\n",
      "WARNING:tensorflow:5 out of the last 5 calls to <function Model.make_predict_function.<locals>.predict_function at 0x7f223c2db830> triggered tf.function retracing. Tracing is expensive and the excessive number of tracings could be due to (1) creating @tf.function repeatedly in a loop, (2) passing tensors with different shapes, (3) passing Python objects instead of tensors. For (1), please define your @tf.function outside of the loop. For (2), @tf.function has reduce_retracing=True option that can avoid unnecessary retracing. For (3), please refer to https://www.tensorflow.org/guide/function#controlling_retracing and https://www.tensorflow.org/api_docs/python/tf/function for  more details.\n",
      "1/1 [==============================] - 0s 101ms/step\n",
      "0.9778967\n"
     ]
    }
   ],
   "source": [
    "predictor = Predictor(config, token_table, model_type, descriptor)\n",
    "prediction0 = predictor.predict(list_ss[0],data_utils)\n",
    "print(prediction0[0])"
   ]
  },
  {
   "cell_type": "code",
   "execution_count": 5,
   "metadata": {
    "collapsed": false
   },
   "outputs": [
    {
     "name": "stdout",
     "output_type": "stream",
     "text": [
      "1/1 [==============================] - 0s 62ms/step\n",
      "1/1 [==============================] - 0s 71ms/step\n",
      "1/1 [==============================] - 0s 33ms/step\n",
      "1/1 [==============================] - 0s 40ms/step\n",
      "1/1 [==============================] - 0s 74ms/step\n",
      "[0.9615682]\n"
     ]
    }
   ],
   "source": [
    "prediction1 = predictor.predict(list_ss[1],data_utils)\n",
    "print(prediction1)"
   ]
  },
  {
   "cell_type": "code",
   "execution_count": 26,
   "metadata": {
    "collapsed": false
   },
   "outputs": [
    {
     "name": "stdout",
     "output_type": "stream",
     "text": [
      "1/1 [==============================] - 0s 74ms/step\n",
      "1/1 [==============================] - 0s 42ms/step\n",
      "1/1 [==============================] - 0s 185ms/step\n",
      "1/1 [==============================] - 0s 32ms/step\n",
      "1/1 [==============================] - 0s 39ms/step\n",
      "[0.9615682]\n"
     ]
    }
   ],
   "source": [
    "prediction2 = predictor.predict(list_ss[2],data_utils)\n",
    "print(prediction2)"
   ]
  },
  {
   "cell_type": "code",
   "execution_count": 25,
   "metadata": {
    "collapsed": false
   },
   "outputs": [
    {
     "name": "stdout",
     "output_type": "stream",
     "text": [
      "1/1 [==============================] - 0s 108ms/step\n",
      "1/1 [==============================] - 0s 173ms/step\n",
      "1/1 [==============================] - 0s 26ms/step\n",
      "1/1 [==============================] - 0s 31ms/step\n",
      "1/1 [==============================] - 0s 31ms/step\n",
      "[0.9615682]\n"
     ]
    }
   ],
   "source": [
    "prediction3 = predictor.predict(list_ss[3],data_utils)\n",
    "print(prediction3)"
   ]
  },
  {
   "cell_type": "code",
   "execution_count": 8,
   "metadata": {
    "collapsed": false
   },
   "outputs": [
    {
     "name": "stdout",
     "output_type": "stream",
     "text": [
      "1/1 [==============================] - 0s 223ms/step\n",
      "1/1 [==============================] - 0s 38ms/step\n",
      "1/1 [==============================] - 0s 40ms/step\n",
      "1/1 [==============================] - 0s 39ms/step\n",
      "1/1 [==============================] - 0s 37ms/step\n",
      "[0.75009555]\n"
     ]
    }
   ],
   "source": [
    "prediction4 = predictor.predict(list_ss[4],data_utils)\n",
    "print(prediction4)"
   ]
  },
  {
   "cell_type": "code",
   "execution_count": 9,
   "metadata": {
    "collapsed": false
   },
   "outputs": [
    {
     "name": "stdout",
     "output_type": "stream",
     "text": [
      "1/1 [==============================] - 0s 60ms/step\n",
      "1/1 [==============================] - 0s 59ms/step\n",
      "1/1 [==============================] - 0s 24ms/step\n",
      "1/1 [==============================] - 0s 21ms/step\n",
      "1/1 [==============================] - 0s 22ms/step\n",
      "[0.9778967]\n"
     ]
    }
   ],
   "source": [
    "prediction5 = predictor.predict(list_ss[5],data_utils)\n",
    "print(prediction5)"
   ]
  },
  {
   "cell_type": "code",
   "execution_count": 10,
   "metadata": {
    "collapsed": false
   },
   "outputs": [
    {
     "name": "stdout",
     "output_type": "stream",
     "text": [
      "1/1 [==============================] - 0s 25ms/step\n",
      "1/1 [==============================] - 0s 117ms/step\n",
      "1/1 [==============================] - 0s 53ms/step\n",
      "1/1 [==============================] - 0s 190ms/step\n",
      "1/1 [==============================] - 0s 54ms/step\n",
      "[0.7612922]\n"
     ]
    }
   ],
   "source": [
    "prediction6 = predictor.predict(list_ss[6],data_utils)\n",
    "print(prediction6)"
   ]
  },
  {
   "cell_type": "code",
   "execution_count": 11,
   "metadata": {
    "collapsed": false
   },
   "outputs": [
    {
     "name": "stdout",
     "output_type": "stream",
     "text": [
      "1/1 [==============================] - 0s 26ms/step\n",
      "1/1 [==============================] - 0s 25ms/step\n",
      "1/1 [==============================] - 0s 28ms/step\n",
      "1/1 [==============================] - 0s 27ms/step\n",
      "1/1 [==============================] - 0s 49ms/step\n",
      "[0.94922817]\n"
     ]
    }
   ],
   "source": [
    "prediction7 = predictor.predict(list_ss[7],data_utils)\n",
    "print(prediction7)"
   ]
  },
  {
   "cell_type": "code",
   "execution_count": 12,
   "metadata": {
    "collapsed": false
   },
   "outputs": [
    {
     "name": "stdout",
     "output_type": "stream",
     "text": [
      "1/1 [==============================] - 0s 28ms/step\n",
      "1/1 [==============================] - 0s 22ms/step\n",
      "1/1 [==============================] - 0s 51ms/step\n",
      "1/1 [==============================] - 0s 97ms/step\n",
      "1/1 [==============================] - 0s 25ms/step\n",
      "[0.94922817]\n"
     ]
    }
   ],
   "source": [
    "prediction8 = predictor.predict(list_ss[8],data_utils)\n",
    "print(prediction8)"
   ]
  },
  {
   "cell_type": "code",
   "execution_count": 13,
   "metadata": {
    "collapsed": false
   },
   "outputs": [
    {
     "name": "stdout",
     "output_type": "stream",
     "text": [
      "1/1 [==============================] - 0s 26ms/step\n",
      "1/1 [==============================] - 0s 25ms/step\n",
      "1/1 [==============================] - 0s 25ms/step\n",
      "1/1 [==============================] - 0s 25ms/step\n",
      "1/1 [==============================] - 0s 22ms/step\n",
      "[0.8606041]\n"
     ]
    }
   ],
   "source": [
    "prediction9 = predictor.predict(list_ss[9],data_utils)\n",
    "print(prediction9)"
   ]
  },
  {
   "cell_type": "code",
   "execution_count": 14,
   "metadata": {
    "collapsed": false
   },
   "outputs": [
    {
     "name": "stdout",
     "output_type": "stream",
     "text": [
      "1/1 [==============================] - 0s 26ms/step\n",
      "1/1 [==============================] - 0s 23ms/step\n",
      "1/1 [==============================] - 0s 24ms/step\n",
      "1/1 [==============================] - 0s 24ms/step\n",
      "1/1 [==============================] - 0s 25ms/step\n",
      "[0.8852037]\n"
     ]
    }
   ],
   "source": [
    "prediction10 = predictor.predict(list_ss[10],data_utils)\n",
    "print(prediction10)"
   ]
  },
  {
   "cell_type": "code",
   "execution_count": 15,
   "metadata": {
    "collapsed": false
   },
   "outputs": [
    {
     "name": "stdout",
     "output_type": "stream",
     "text": [
      "CC1=NN=C(C(C)C)N1[C@H](C[C@H]2CC3)C[C@H]3N2CC[C@H](NC(C4CCCCC4)=O)C5=CC=C(C#N)S\n",
      "1/1 [==============================] - 0s 24ms/step\n",
      "1/1 [==============================] - 0s 41ms/step\n"
     ]
    },
    {
     "name": "stderr",
     "output_type": "stream",
     "text": [
      "RDKit ERROR: [11:49:48] SMILES Parse Error: unclosed ring for input: 'CC1=NN=C(C(C)C)N1[C@H](C[C@H]2CC3)C[C@H]3N2CC[C@H](NC(C4CCCCC4)=O)C5=CC=C(C#N)S'\n",
      "[11:49:48] SMILES Parse Error: unclosed ring for input: 'CC1=NN=C(C(C)C)N1[C@H](C[C@H]2CC3)C[C@H]3N2CC[C@H](NC(C4CCCCC4)=O)C5=CC=C(C#N)S'\n"
     ]
    },
    {
     "name": "stdout",
     "output_type": "stream",
     "text": [
      "1/1 [==============================] - 0s 136ms/step\n",
      "1/1 [==============================] - 0s 132ms/step\n",
      "1/1 [==============================] - 0s 28ms/step\n",
      "[0.5351601]\n"
     ]
    }
   ],
   "source": [
    "prediction11 = predictor.predict(list_ss[11],data_utils)\n",
    "print(prediction11)"
   ]
  },
  {
   "cell_type": "code",
   "execution_count": 16,
   "metadata": {
    "collapsed": false
   },
   "outputs": [
    {
     "name": "stdout",
     "output_type": "stream",
     "text": [
      "1/1 [==============================] - 0s 29ms/step\n",
      "1/1 [==============================] - 0s 27ms/step\n",
      "1/1 [==============================] - 0s 28ms/step\n",
      "1/1 [==============================] - 0s 28ms/step\n",
      "1/1 [==============================] - 0s 28ms/step\n",
      "[0.89739925]\n"
     ]
    }
   ],
   "source": [
    "prediction12 = predictor.predict(list_ss[12],data_utils)\n",
    "print(prediction12)"
   ]
  },
  {
   "cell_type": "code",
   "execution_count": 17,
   "metadata": {
    "collapsed": false
   },
   "outputs": [
    {
     "name": "stdout",
     "output_type": "stream",
     "text": [
      "1/1 [==============================] - 0s 24ms/step\n",
      "1/1 [==============================] - 0s 23ms/step\n",
      "1/1 [==============================] - 0s 23ms/step\n",
      "1/1 [==============================] - 0s 38ms/step\n",
      "1/1 [==============================] - 0s 36ms/step\n",
      "[0.8271716]\n"
     ]
    }
   ],
   "source": [
    "prediction13 = predictor.predict(list_ss[13],data_utils)\n",
    "print(prediction13)"
   ]
  },
  {
   "cell_type": "code",
   "execution_count": 18,
   "metadata": {
    "collapsed": false
   },
   "outputs": [
    {
     "name": "stdout",
     "output_type": "stream",
     "text": [
      "1/1 [==============================] - 0s 143ms/step\n",
      "1/1 [==============================] - 0s 29ms/step\n",
      "1/1 [==============================] - 0s 54ms/step\n",
      "1/1 [==============================] - 0s 31ms/step\n",
      "1/1 [==============================] - 0s 36ms/step\n",
      "[0.8606041]\n"
     ]
    }
   ],
   "source": [
    "prediction14 = predictor.predict(list_ss[14],data_utils)\n",
    "print(prediction14)"
   ]
  },
  {
   "cell_type": "code",
   "execution_count": 19,
   "metadata": {
    "collapsed": false
   },
   "outputs": [
    {
     "name": "stdout",
     "output_type": "stream",
     "text": [
      "1/1 [==============================] - 0s 41ms/step\n",
      "1/1 [==============================] - 0s 239ms/step\n",
      "1/1 [==============================] - 0s 30ms/step\n",
      "1/1 [==============================] - 0s 51ms/step\n",
      "1/1 [==============================] - 0s 143ms/step\n",
      "[0.75009555]\n"
     ]
    }
   ],
   "source": [
    "prediction15 = predictor.predict(list_ss[15],data_utils)\n",
    "print(prediction15)"
   ]
  },
  {
   "cell_type": "code",
   "execution_count": 27,
   "metadata": {
    "collapsed": false
   },
   "outputs": [
    {
     "name": "stdout",
     "output_type": "stream",
     "text": [
      "1/1 [==============================] - 0s 43ms/step\n",
      "1/1 [==============================] - 0s 77ms/step\n",
      "1/1 [==============================] - 0s 35ms/step\n",
      "1/1 [==============================] - 0s 29ms/step\n",
      "1/1 [==============================] - 0s 27ms/step\n",
      "[0.07591142]\n"
     ]
    }
   ],
   "source": [
    "prediction16 = predictor.predict(list_ss[16],data_utils)\n",
    "print(prediction16)"
   ]
  },
  {
   "cell_type": "code",
   "execution_count": 21,
   "metadata": {
    "collapsed": false
   },
   "outputs": [
    {
     "name": "stdout",
     "output_type": "stream",
     "text": [
      "1/1 [==============================] - 0s 27ms/step\n",
      "1/1 [==============================] - 0s 32ms/step\n",
      "1/1 [==============================] - 0s 27ms/step\n",
      "1/1 [==============================] - 0s 52ms/step\n",
      "1/1 [==============================] - 0s 69ms/step\n",
      "[0.72282684]\n"
     ]
    }
   ],
   "source": [
    "prediction17 = predictor.predict(list_ss[17],data_utils)\n",
    "print(prediction17)"
   ]
  },
  {
   "cell_type": "code",
   "execution_count": 22,
   "metadata": {
    "collapsed": false
   },
   "outputs": [
    {
     "name": "stdout",
     "output_type": "stream",
     "text": [
      "1/1 [==============================] - 0s 197ms/step\n",
      "1/1 [==============================] - 0s 36ms/step\n",
      "1/1 [==============================] - 0s 38ms/step\n",
      "1/1 [==============================] - 0s 56ms/step\n",
      "1/1 [==============================] - 0s 153ms/step\n",
      "[0.75009555]\n"
     ]
    }
   ],
   "source": [
    "prediction18 = predictor.predict(list_ss[18],data_utils)\n",
    "print(prediction18)"
   ]
  },
  {
   "cell_type": "code",
   "execution_count": 23,
   "metadata": {
    "collapsed": false
   },
   "outputs": [
    {
     "name": "stdout",
     "output_type": "stream",
     "text": [
      "1/1 [==============================] - 0s 35ms/step\n",
      "1/1 [==============================] - 0s 34ms/step\n",
      "1/1 [==============================] - 0s 32ms/step\n",
      "1/1 [==============================] - 0s 53ms/step\n",
      "1/1 [==============================] - 0s 77ms/step\n",
      "[0.918887]\n"
     ]
    }
   ],
   "source": [
    "prediction19 = predictor.predict(list_ss[19],data_utils)\n",
    "print(prediction19)"
   ]
  },
  {
   "cell_type": "code",
   "execution_count": 24,
   "metadata": {
    "collapsed": false
   },
   "outputs": [
    {
     "name": "stdout",
     "output_type": "stream",
     "text": [
      "1/1 [==============================] - 0s 111ms/step\n",
      "1/1 [==============================] - 0s 58ms/step\n",
      "1/1 [==============================] - 0s 40ms/step\n",
      "1/1 [==============================] - 0s 52ms/step\n",
      "1/1 [==============================] - 0s 35ms/step\n",
      "[0.918887]\n"
     ]
    }
   ],
   "source": [
    "prediction20 = predictor.predict(list_ss[20],data_utils)\n",
    "print(prediction20)"
   ]
  }
 ],
 "metadata": {
  "kernelspec": {
   "display_name": "COMA",
   "language": "python",
   "name": "coma"
  },
  "language_info": {
   "codemirror_mode": {
    "name": "ipython",
    "version": 2
   },
   "file_extension": ".py",
   "mimetype": "text/x-python",
   "name": "python",
   "nbconvert_exporter": "python",
   "pygments_lexer": "ipython2",
   "version": "2.7.6"
  }
 },
 "nbformat": 4,
 "nbformat_minor": 0
}
